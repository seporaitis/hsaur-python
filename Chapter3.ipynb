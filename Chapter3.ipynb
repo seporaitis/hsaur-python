{
 "cells": [
  {
   "cell_type": "markdown",
   "metadata": {},
   "source": [
    "# Simple Inference"
   ]
  },
  {
   "cell_type": "code",
   "execution_count": 57,
   "metadata": {
    "collapsed": true
   },
   "outputs": [],
   "source": [
    "%matplotlib inline\n",
    "from __future__ import division\n",
    "\n",
    "import pandas as pd\n",
    "import numpy as np\n",
    "import matplotlib.pyplot as plt\n",
    "import seaborn as sns\n",
    "import statsmodels.api as sm\n",
    "import statsmodels.stats.api as sms\n",
    "from scipy import optimize, stats"
   ]
  },
  {
   "cell_type": "code",
   "execution_count": 58,
   "metadata": {
    "collapsed": true
   },
   "outputs": [],
   "source": [
    "sns.set(color_codes=True)"
   ]
  },
  {
   "cell_type": "markdown",
   "metadata": {},
   "source": [
    "## Estimating the Width of a Room"
   ]
  },
  {
   "cell_type": "markdown",
   "metadata": {},
   "source": [
    "_Shortly after metric units of length were officially introduced in Australia in the 1970s, each of a group of 44 students was asked to guess, to the nearest meter, the width of the lecture hall in which they were sitting. Another group of 69 students in the same room was asked to guess the width in feet, ot the nearest foot. The main question is whether estimation in feet and in meters gives different results._"
   ]
  },
  {
   "cell_type": "code",
   "execution_count": 59,
   "metadata": {
    "collapsed": false
   },
   "outputs": [
    {
     "data": {
      "text/html": [
       "<div>\n",
       "<table border=\"1\" class=\"dataframe\">\n",
       "  <thead>\n",
       "    <tr style=\"text-align: right;\">\n",
       "      <th></th>\n",
       "      <th>unit</th>\n",
       "      <th>width</th>\n",
       "    </tr>\n",
       "  </thead>\n",
       "  <tbody>\n",
       "    <tr>\n",
       "      <th>0</th>\n",
       "      <td>metres</td>\n",
       "      <td>8</td>\n",
       "    </tr>\n",
       "    <tr>\n",
       "      <th>1</th>\n",
       "      <td>metres</td>\n",
       "      <td>9</td>\n",
       "    </tr>\n",
       "    <tr>\n",
       "      <th>2</th>\n",
       "      <td>metres</td>\n",
       "      <td>10</td>\n",
       "    </tr>\n",
       "    <tr>\n",
       "      <th>3</th>\n",
       "      <td>metres</td>\n",
       "      <td>10</td>\n",
       "    </tr>\n",
       "    <tr>\n",
       "      <th>4</th>\n",
       "      <td>metres</td>\n",
       "      <td>10</td>\n",
       "    </tr>\n",
       "  </tbody>\n",
       "</table>\n",
       "</div>"
      ],
      "text/plain": [
       "     unit  width\n",
       "0  metres      8\n",
       "1  metres      9\n",
       "2  metres     10\n",
       "3  metres     10\n",
       "4  metres     10"
      ]
     },
     "execution_count": 59,
     "metadata": {},
     "output_type": "execute_result"
    }
   ],
   "source": [
    "roomwidth = pd.read_csv('roomwidth.csv')\n",
    "del roomwidth['Unnamed: 0']\n",
    "roomwidth.head()"
   ]
  },
  {
   "cell_type": "code",
   "execution_count": 60,
   "metadata": {
    "collapsed": false
   },
   "outputs": [
    {
     "data": {
      "text/html": [
       "<div>\n",
       "<table border=\"1\" class=\"dataframe\">\n",
       "  <thead>\n",
       "    <tr style=\"text-align: right;\">\n",
       "      <th></th>\n",
       "      <th>unit</th>\n",
       "      <th>width</th>\n",
       "    </tr>\n",
       "  </thead>\n",
       "  <tbody>\n",
       "    <tr>\n",
       "      <th>0</th>\n",
       "      <td>metres</td>\n",
       "      <td>26.24</td>\n",
       "    </tr>\n",
       "    <tr>\n",
       "      <th>1</th>\n",
       "      <td>metres</td>\n",
       "      <td>29.52</td>\n",
       "    </tr>\n",
       "    <tr>\n",
       "      <th>2</th>\n",
       "      <td>metres</td>\n",
       "      <td>32.80</td>\n",
       "    </tr>\n",
       "    <tr>\n",
       "      <th>3</th>\n",
       "      <td>metres</td>\n",
       "      <td>32.80</td>\n",
       "    </tr>\n",
       "    <tr>\n",
       "      <th>4</th>\n",
       "      <td>metres</td>\n",
       "      <td>32.80</td>\n",
       "    </tr>\n",
       "  </tbody>\n",
       "</table>\n",
       "</div>"
      ],
      "text/plain": [
       "     unit  width\n",
       "0  metres  26.24\n",
       "1  metres  29.52\n",
       "2  metres  32.80\n",
       "3  metres  32.80\n",
       "4  metres  32.80"
      ]
     },
     "execution_count": 60,
     "metadata": {},
     "output_type": "execute_result"
    }
   ],
   "source": [
    "def convert(row):\n",
    "    if row['unit'] == 'metres':\n",
    "        row['width'] *= 3.28\n",
    "    return row\n",
    "\n",
    "roomwidth = roomwidth.apply(convert, axis=1)\n",
    "roomwidth.head()"
   ]
  },
  {
   "cell_type": "code",
   "execution_count": 61,
   "metadata": {
    "collapsed": false
   },
   "outputs": [
    {
     "data": {
      "text/html": [
       "<div>\n",
       "<table border=\"1\" class=\"dataframe\">\n",
       "  <thead>\n",
       "    <tr style=\"text-align: right;\">\n",
       "      <th></th>\n",
       "      <th>width</th>\n",
       "    </tr>\n",
       "  </thead>\n",
       "  <tbody>\n",
       "    <tr>\n",
       "      <th>count</th>\n",
       "      <td>44.000000</td>\n",
       "    </tr>\n",
       "    <tr>\n",
       "      <th>mean</th>\n",
       "      <td>52.554545</td>\n",
       "    </tr>\n",
       "    <tr>\n",
       "      <th>std</th>\n",
       "      <td>23.434443</td>\n",
       "    </tr>\n",
       "    <tr>\n",
       "      <th>min</th>\n",
       "      <td>26.240000</td>\n",
       "    </tr>\n",
       "    <tr>\n",
       "      <th>25%</th>\n",
       "      <td>36.080000</td>\n",
       "    </tr>\n",
       "    <tr>\n",
       "      <th>50%</th>\n",
       "      <td>49.200000</td>\n",
       "    </tr>\n",
       "    <tr>\n",
       "      <th>75%</th>\n",
       "      <td>55.760000</td>\n",
       "    </tr>\n",
       "    <tr>\n",
       "      <th>max</th>\n",
       "      <td>131.200000</td>\n",
       "    </tr>\n",
       "  </tbody>\n",
       "</table>\n",
       "</div>"
      ],
      "text/plain": [
       "            width\n",
       "count   44.000000\n",
       "mean    52.554545\n",
       "std     23.434443\n",
       "min     26.240000\n",
       "25%     36.080000\n",
       "50%     49.200000\n",
       "75%     55.760000\n",
       "max    131.200000"
      ]
     },
     "execution_count": 61,
     "metadata": {},
     "output_type": "execute_result"
    }
   ],
   "source": [
    "roomwidth[roomwidth['unit'] == 'metres'].describe()"
   ]
  },
  {
   "cell_type": "code",
   "execution_count": 62,
   "metadata": {
    "collapsed": false
   },
   "outputs": [
    {
     "data": {
      "text/html": [
       "<div>\n",
       "<table border=\"1\" class=\"dataframe\">\n",
       "  <thead>\n",
       "    <tr style=\"text-align: right;\">\n",
       "      <th></th>\n",
       "      <th>width</th>\n",
       "    </tr>\n",
       "  </thead>\n",
       "  <tbody>\n",
       "    <tr>\n",
       "      <th>count</th>\n",
       "      <td>69.000000</td>\n",
       "    </tr>\n",
       "    <tr>\n",
       "      <th>mean</th>\n",
       "      <td>43.695652</td>\n",
       "    </tr>\n",
       "    <tr>\n",
       "      <th>std</th>\n",
       "      <td>12.497417</td>\n",
       "    </tr>\n",
       "    <tr>\n",
       "      <th>min</th>\n",
       "      <td>24.000000</td>\n",
       "    </tr>\n",
       "    <tr>\n",
       "      <th>25%</th>\n",
       "      <td>36.000000</td>\n",
       "    </tr>\n",
       "    <tr>\n",
       "      <th>50%</th>\n",
       "      <td>42.000000</td>\n",
       "    </tr>\n",
       "    <tr>\n",
       "      <th>75%</th>\n",
       "      <td>48.000000</td>\n",
       "    </tr>\n",
       "    <tr>\n",
       "      <th>max</th>\n",
       "      <td>94.000000</td>\n",
       "    </tr>\n",
       "  </tbody>\n",
       "</table>\n",
       "</div>"
      ],
      "text/plain": [
       "           width\n",
       "count  69.000000\n",
       "mean   43.695652\n",
       "std    12.497417\n",
       "min    24.000000\n",
       "25%    36.000000\n",
       "50%    42.000000\n",
       "75%    48.000000\n",
       "max    94.000000"
      ]
     },
     "execution_count": 62,
     "metadata": {},
     "output_type": "execute_result"
    }
   ],
   "source": [
    "roomwidth[roomwidth['unit'] == 'feet'].describe()"
   ]
  },
  {
   "cell_type": "code",
   "execution_count": 63,
   "metadata": {
    "collapsed": false
   },
   "outputs": [
    {
     "name": "stdout",
     "output_type": "stream",
     "text": [
      "12.5 23.4\n"
     ]
    }
   ],
   "source": [
    "print(\n",
    "    round(roomwidth[roomwidth['unit'] == 'feet']['width'].std(), 1), \n",
    "    round(roomwidth[roomwidth['unit'] == 'metres']['width'].std(), 1),\n",
    ")"
   ]
  },
  {
   "cell_type": "code",
   "execution_count": 64,
   "metadata": {
    "collapsed": false
   },
   "outputs": [
    {
     "data": {
      "text/plain": [
       "<matplotlib.axes._subplots.AxesSubplot at 0x7fbcb6da1630>"
      ]
     },
     "execution_count": 64,
     "metadata": {},
     "output_type": "execute_result"
    },
    {
     "data": {
      "image/png": "[encoded data removed]",
      "text/plain": [
       "<matplotlib.figure.Figure at 0x7fbcb7bab4e0>"
      ]
     },
     "metadata": {},
     "output_type": "display_data"
    }
   ],
   "source": [
    "sns.boxplot(x=\"unit\", y=\"width\", data=roomwidth, order=['feet', 'metres'])"
   ]
  },
  {
   "cell_type": "markdown",
   "metadata": {},
   "source": [
    "_The boxplots indicate that both sets of estimates contain a number of outliers and also that the estimates made in meters are skewed and more variable than those made in feet, a point underlined by the numerical summary statistics above. Both normal probability plots depart from linearity, suggesting that the distributions of both sets of estimates are not normal. The presence of outliers, the apparently different variances and the evidence of non-normality all suggest caution in applying the t-test, but for the moment we shall apply the usual version of the test._"
   ]
  },
  {
   "cell_type": "code",
   "execution_count": 65,
   "metadata": {
    "collapsed": true
   },
   "outputs": [],
   "source": [
    "roomfeet = roomwidth[roomwidth['unit'] == 'feet']\n",
    "roommetres = roomwidth[roomwidth['unit'] == 'metres']"
   ]
  },
  {
   "cell_type": "code",
   "execution_count": 66,
   "metadata": {
    "collapsed": false
   },
   "outputs": [
    {
     "data": {
      "image/png": "[encoded data removed]",
      "text/plain": [
       "<matplotlib.figure.Figure at 0x7fbcb6d00c88>"
      ]
     },
     "metadata": {},
     "output_type": "display_data"
    }
   ],
   "source": [
    "fig, ax = plt.subplots(ncols=2)\n",
    "sm.qqplot(roomfeet['width'], ax=ax[0], line='q')\n",
    "ax[0].set_title(\"Estimated in Feet\")\n",
    "sm.qqplot(roommetres['width'], ax=ax[1], line='q')\n",
    "ax[1].set_title(\"Estimated in Metres (converted to Feet)\")\n",
    "plt.show()"
   ]
  },
  {
   "cell_type": "code",
   "execution_count": 67,
   "metadata": {
    "collapsed": false
   },
   "outputs": [
    {
     "name": "stdout",
     "output_type": "stream",
     "text": [
      "Student t-test\n",
      "t-value -2.6146714459 p-value 0.0101717231777 df 111\n",
      "mean in group feet 43.6956521739\n",
      "mean in group metres 52.5545454545\n",
      "confidence interval -15.5727343089 -2.14505225235\n"
     ]
    }
   ],
   "source": [
    "tvalue, pvalue = stats.ttest_ind(\n",
    "    a=roomfeet['width'],\n",
    "    b=roommetres['width'],\n",
    ")\n",
    "print(\"Student t-test\")\n",
    "print(\"t-value\", tvalue, \"p-value\", pvalue, \"df\", (len(roomfeet['width']) + len(roommetres['width']) - 2))\n",
    "\n",
    "print(\"mean in group feet\", roomfeet['width'].mean())\n",
    "print(\"mean in group metres\", roommetres['width'].mean())\n",
    "\n",
    "cm = sms.CompareMeans.from_data(roomfeet['width'], roommetres['width'])\n",
    "cil, cir = cm.tconfint_diff(usevar='pooled')\n",
    "print(\"confidence interval\", cil, cir)"
   ]
  },
  {
   "cell_type": "code",
   "execution_count": 68,
   "metadata": {
    "collapsed": false
   },
   "outputs": [
    {
     "name": "stdout",
     "output_type": "stream",
     "text": [
      "Welch t-test\n",
      "t-value -2.30706887773 p-value 0.0245917766133\n",
      "mean in group feet 43.6956521739\n",
      "mean in group metres 52.5545454545\n",
      "confidence interval -16.5430765962 -1.17470996507\n"
     ]
    }
   ],
   "source": [
    "tvalue, pvalue = stats.ttest_ind(\n",
    "    a=roomwidth[roomwidth['unit'] == 'feet']['width'],\n",
    "    b=roomwidth[roomwidth['unit'] == 'metres']['width'],\n",
    "    equal_var=False,\n",
    ")\n",
    "print(\"Welch t-test\")\n",
    "print(\"t-value\", tvalue, \"p-value\", pvalue)\n",
    "\n",
    "print(\"mean in group feet\", roomfeet['width'].mean())\n",
    "print(\"mean in group metres\", roommetres['width'].mean())\n",
    "\n",
    "cm = sms.CompareMeans.from_data(roomfeet['width'], roommetres['width'])\n",
    "cil, cir = cm.tconfint_diff(usevar='unequal')\n",
    "print(\"confidence interval\", cil, cir)"
   ]
  },
  {
   "cell_type": "markdown",
   "metadata": {},
   "source": [
    "_But this form of t-test assumes both normality and equality of population variances, both of which are suspect for these data. Departure from the equality of variance assumption can be accommodated by the modified t-test described above and this can be applied by choosing_ `equal_var=False`. _The result above indicates that there is strong evidence for a difference in the means of the two types of estimates._\n",
    "\n",
    "_But there remains the problem of the outliers and the possible non-normality; consequently we shall apply the Wilcoxon Mann-Whitney test which, since it is based on the ranks of the observations, is unlikely to be affected by the outliers, and which does not assume that the data have a normal distribution._"
   ]
  },
  {
   "cell_type": "code",
   "execution_count": 69,
   "metadata": {
    "collapsed": false,
    "scrolled": true
   },
   "outputs": [
    {
     "name": "stdout",
     "output_type": "stream",
     "text": [
      "U 1145.0 p-value 0.0140773944076\n"
     ]
    }
   ],
   "source": [
    "U, pvalue = stats.mannwhitneyu(roomfeet['width'], roommetres['width'])\n",
    "print(\"U\", U, \"p-value\", pvalue)"
   ]
  },
  {
   "cell_type": "markdown",
   "metadata": {},
   "source": [
    "_A two-sided p-value_ `0.014 * 2 = 0.028` _confirms the difference in location of the two types of estimates of room width. Note that, due to ranking the observations, the confidence interval for the median difference reported here is much smaller than the confidence interval for the differenece in means in both t-tests._"
   ]
  },
  {
   "cell_type": "code",
   "execution_count": 70,
   "metadata": {
    "collapsed": false
   },
   "outputs": [
    {
     "name": "stdout",
     "output_type": "stream",
     "text": [
      "95 percent confidence interval\n",
      "-9.359999999999618 -0.8000000000008245\n"
     ]
    }
   ],
   "source": [
    "def wilcoxon_cint(x, y):\n",
    "    \"\"\"\n",
    "    An attempt to calculate confidence interval of Wilcoxon test, based on it's R implementation:\n",
    "    https://github.com/wch/r-source/blob/trunk/src/library/stats/R/wilcox.test.R\n",
    "    \"\"\"\n",
    "    n = len(x)\n",
    "    mu = 0\n",
    "    conf_level = 0.95\n",
    "    exact = len(x) < 50\n",
    "\n",
    "    r = stats.rankdata((x - mu).append(y))\n",
    "    n_x = len(x)\n",
    "    n_y = len(y)\n",
    "    exact = (n_x < 50) and (n_y < 5)\n",
    "    statistic = np.sum(r[0:n_x]) - n_x * (n_x + 1) / 2\n",
    "    ties = (len(r) != len(np.unique(r)))\n",
    "\n",
    "    # https://github.com/wch/r-source/blob/trunk/src/library/stats/R/wilcox.test.R#L332\n",
    "    nties = pd.Series(r).value_counts()\n",
    "    z = statistic - (n_x * n_y / 2)\n",
    "    sigma = np.sqrt((n_x * n_y / 12) *\n",
    "                    ((n_x + n_y + 1)\n",
    "                   - np.sum(np.power(nties, 3) - nties)\n",
    "                    / ((n_x + n_y) * (n_x + n_y - 1))))\n",
    "    correction = np.sign(z) * 0.5\n",
    "    z = (z - correction) / sigma\n",
    "    pval = 2 * min(stats.norm.cdf(z), stats.norm.cdf((1 - z) / 2))\n",
    "    assert round(pval, 3) == round(2 * pvalue, 3)  # This just verifies we're on the right track.\n",
    "\n",
    "    # conf.int\n",
    "    alpha = 1 - conf_level\n",
    "    mumin = x.min() - y.max()\n",
    "    mumax = x.max() - y.min()\n",
    "\n",
    "    def W(d):\n",
    "        dr = stats.rankdata((x - d).append(y))\n",
    "        nties_ci = pd.Series(r).value_counts()\n",
    "        dz = np.sum(dr[0:n_x]) - n_x * (n_x + 1) / 2 - n_x * n_y / 2\n",
    "        correction_ci = np.sign(dz) * 0.5\n",
    "        sigma_ci = np.sqrt((n_x * n_y / 12) *\n",
    "                               ((n_x + n_y + 1)\n",
    "                             - sum(np.power(nties_ci, 3) - nties_ci)\n",
    "                             / ((n_x + n_y) * (n_x + n_y - 1))))\n",
    "        return (dz - correction_ci) / sigma_ci\n",
    "\n",
    "    def wdiff(d, zq):\n",
    "        val = W(d) - zq\n",
    "        return val\n",
    "    \n",
    "    Wmumin = W(mumin)\n",
    "    Wmumax = W(mumax)\n",
    "\n",
    "    def root(zq):\n",
    "        lower = Wmumin - zq\n",
    "        if lower <= 0:\n",
    "            return mumin\n",
    "        upper = Wmumax - zq\n",
    "        if upper >= 0:\n",
    "            return mumax\n",
    "        return optimize.brentq(wdiff, a=mumin, b=mumax, args=(zq,))\n",
    "\n",
    "    l = root(zq=stats.norm.ppf(1 - alpha / 2))\n",
    "    u = root(zq=stats.norm.ppf(alpha / 2))\n",
    "    \n",
    "    return (l, u)\n",
    "\n",
    "l, u = wilcoxon_cint(roomfeet['width'], roommetres['width'])\n",
    "print(\"95 percent confidence interval\")\n",
    "print(l, u)"
   ]
  },
  {
   "cell_type": "markdown",
   "metadata": {
    "collapsed": true
   },
   "source": [
    "*Note:* Above result does not exactly (digit for digit) match R (`-9.3599953 -0.8000423`), but is close enough"
   ]
  },
  {
   "cell_type": "markdown",
   "metadata": {},
   "source": [
    "### Summary of Findings\n",
    "\n",
    "Guessing the width of the room in different units results in a statistically significant (`p-value = 0.028 < 0.05`) difference in the means of the guesses in feet and those in meters (after conversion to feet). The estimates made in feet are between 16 and 2 feet smaller on average (from confidence intervals of both t-tests) than those made in meters."
   ]
  },
  {
   "cell_type": "markdown",
   "metadata": {
    "collapsed": true
   },
   "source": [
    "## Wave Energy Device Mooring"
   ]
  },
  {
   "cell_type": "markdown",
   "metadata": {},
   "source": [
    "_This data requires the use of a matched pairs t-test to answer the question of interest. This test assumes that the differences between the matched observations have a normal distribution so we can begin by checking this assumption by constructing a boxplot and a normal probability plot._"
   ]
  },
  {
   "cell_type": "code",
   "execution_count": 71,
   "metadata": {
    "collapsed": false
   },
   "outputs": [
    {
     "data": {
      "text/html": [
       "<div>\n",
       "<table border=\"1\" class=\"dataframe\">\n",
       "  <thead>\n",
       "    <tr style=\"text-align: right;\">\n",
       "      <th></th>\n",
       "      <th>method1</th>\n",
       "      <th>method2</th>\n",
       "    </tr>\n",
       "  </thead>\n",
       "  <tbody>\n",
       "    <tr>\n",
       "      <th>0</th>\n",
       "      <td>2.23</td>\n",
       "      <td>1.82</td>\n",
       "    </tr>\n",
       "    <tr>\n",
       "      <th>1</th>\n",
       "      <td>2.55</td>\n",
       "      <td>2.42</td>\n",
       "    </tr>\n",
       "    <tr>\n",
       "      <th>2</th>\n",
       "      <td>7.99</td>\n",
       "      <td>8.26</td>\n",
       "    </tr>\n",
       "    <tr>\n",
       "      <th>3</th>\n",
       "      <td>4.09</td>\n",
       "      <td>3.46</td>\n",
       "    </tr>\n",
       "    <tr>\n",
       "      <th>4</th>\n",
       "      <td>9.62</td>\n",
       "      <td>9.77</td>\n",
       "    </tr>\n",
       "  </tbody>\n",
       "</table>\n",
       "</div>"
      ],
      "text/plain": [
       "   method1  method2\n",
       "0     2.23     1.82\n",
       "1     2.55     2.42\n",
       "2     7.99     8.26\n",
       "3     4.09     3.46\n",
       "4     9.62     9.77"
      ]
     },
     "execution_count": 71,
     "metadata": {},
     "output_type": "execute_result"
    }
   ],
   "source": [
    "waves = pd.read_csv('waves.csv')\n",
    "del waves['Unnamed: 0']\n",
    "waves.head()"
   ]
  },
  {
   "cell_type": "code",
   "execution_count": 72,
   "metadata": {
    "collapsed": true
   },
   "outputs": [],
   "source": [
    "mooringdiff = waves['method1'] - waves['method2']"
   ]
  },
  {
   "cell_type": "code",
   "execution_count": 73,
   "metadata": {
    "collapsed": false
   },
   "outputs": [
    {
     "data": {
      "image/png": "[encoded data removed]",
      "text/plain": [
       "<matplotlib.figure.Figure at 0x7fbcb6d097f0>"
      ]
     },
     "metadata": {},
     "output_type": "display_data"
    }
   ],
   "source": [
    "fig, ax = plt.subplots(ncols=2)\n",
    "sns.boxplot(y=mooringdiff, ax=ax[0]).set_ylabel(\"Differences (Newton metres)\")\n",
    "sm.qqplot(mooringdiff, ax=ax[1], line='q')\n",
    "plt.tight_layout()\n",
    "plt.show()"
   ]
  },
  {
   "cell_type": "markdown",
   "metadata": {},
   "source": [
    "_The boxplot indicates a possible outlier, and the normal probability plot gives little cause for concern about departures from normality, although with only 18 observations it is perhaps difficult to draw any convincing conclusion. We can now apply the paired t-test to the data._"
   ]
  },
  {
   "cell_type": "code",
   "execution_count": 74,
   "metadata": {
    "collapsed": false
   },
   "outputs": [
    {
     "name": "stdout",
     "output_type": "stream",
     "text": [
      "t-value 0.90193418101 p-value 0.379693422795\n",
      "confidence interval -0.0825847617698 0.205918095103\n"
     ]
    }
   ],
   "source": [
    "tvalue, pvalue = stats.ttest_1samp(mooringdiff, popmean=0.0)\n",
    "print(\"t-value\", tvalue, \"p-value\", pvalue)\n",
    "\n",
    "ds = sms.DescrStatsW(mooringdiff)\n",
    "l, u = ds.tconfint_mean()\n",
    "print(\"confidence interval\", l, u)"
   ]
  },
  {
   "cell_type": "markdown",
   "metadata": {},
   "source": [
    "### Summary of Findings\n",
    "\n",
    "There is no evidence that the two mooring methods differ in their effect on the bending stress (`p-value > 0.05`)."
   ]
  },
  {
   "cell_type": "markdown",
   "metadata": {},
   "source": [
    "## Mortality and Water Hardness\n",
    "\n",
    "_To begin we will construct a scatterplot of the data enhanced somewhat by the addition of information about the marginal distributions of water hardness and mortality, and by adding the estimated linear regression fit for mortality on hardness._"
   ]
  },
  {
   "cell_type": "code",
   "execution_count": 75,
   "metadata": {
    "collapsed": false
   },
   "outputs": [
    {
     "data": {
      "text/html": [
       "<div>\n",
       "<table border=\"1\" class=\"dataframe\">\n",
       "  <thead>\n",
       "    <tr style=\"text-align: right;\">\n",
       "      <th></th>\n",
       "      <th>location</th>\n",
       "      <th>town</th>\n",
       "      <th>mortality</th>\n",
       "      <th>hardness</th>\n",
       "    </tr>\n",
       "  </thead>\n",
       "  <tbody>\n",
       "    <tr>\n",
       "      <th>0</th>\n",
       "      <td>South</td>\n",
       "      <td>Bath</td>\n",
       "      <td>1247</td>\n",
       "      <td>105</td>\n",
       "    </tr>\n",
       "    <tr>\n",
       "      <th>1</th>\n",
       "      <td>North</td>\n",
       "      <td>Birkenhead</td>\n",
       "      <td>1668</td>\n",
       "      <td>17</td>\n",
       "    </tr>\n",
       "    <tr>\n",
       "      <th>2</th>\n",
       "      <td>South</td>\n",
       "      <td>Birmingham</td>\n",
       "      <td>1466</td>\n",
       "      <td>5</td>\n",
       "    </tr>\n",
       "    <tr>\n",
       "      <th>3</th>\n",
       "      <td>North</td>\n",
       "      <td>Blackburn</td>\n",
       "      <td>1800</td>\n",
       "      <td>14</td>\n",
       "    </tr>\n",
       "    <tr>\n",
       "      <th>4</th>\n",
       "      <td>North</td>\n",
       "      <td>Blackpool</td>\n",
       "      <td>1609</td>\n",
       "      <td>18</td>\n",
       "    </tr>\n",
       "  </tbody>\n",
       "</table>\n",
       "</div>"
      ],
      "text/plain": [
       "  location        town  mortality  hardness\n",
       "0    South        Bath       1247       105\n",
       "1    North  Birkenhead       1668        17\n",
       "2    South  Birmingham       1466         5\n",
       "3    North   Blackburn       1800        14\n",
       "4    North   Blackpool       1609        18"
      ]
     },
     "execution_count": 75,
     "metadata": {},
     "output_type": "execute_result"
    }
   ],
   "source": [
    "water = pd.read_csv('water.csv')\n",
    "del water['Unnamed: 0']\n",
    "water.head()"
   ]
  },
  {
   "cell_type": "code",
   "execution_count": 76,
   "metadata": {
    "collapsed": false
   },
   "outputs": [
    {
     "data": {
      "text/plain": [
       "<matplotlib.axes._subplots.AxesSubplot at 0x7fbcb6aa2668>"
      ]
     },
     "execution_count": 76,
     "metadata": {},
     "output_type": "execute_result"
    },
    {
     "data": {
      "image/png": "[encoded data removed]",
      "text/plain": [
       "<matplotlib.figure.Figure at 0x7fbcb6ac3ef0>"
      ]
     },
     "metadata": {},
     "output_type": "display_data"
    }
   ],
   "source": [
    "fig, ax = plt.subplots(ncols=2, figsize=(10, 4))\n",
    "water['hardness'].hist(ax=ax[0])\n",
    "ax[0].set_ylabel(\"Frequency\")\n",
    "ax[0].set_xlabel(\"Hardness\")\n",
    "sns.boxplot(y=water['mortality'], ax=ax[1])"
   ]
  },
  {
   "cell_type": "code",
   "execution_count": 77,
   "metadata": {
    "collapsed": false
   },
   "outputs": [
    {
     "data": {
      "text/plain": [
       "<matplotlib.axes._subplots.AxesSubplot at 0x7fbcb69d1c88>"
      ]
     },
     "execution_count": 77,
     "metadata": {},
     "output_type": "execute_result"
    },
    {
     "data": {
      "image/png": "[encoded data removed]",
      "text/plain": [
       "<matplotlib.figure.Figure at 0x7fbcb6971a90>"
      ]
     },
     "metadata": {},
     "output_type": "display_data"
    }
   ],
   "source": [
    "g = sns.lmplot(x=\"hardness\", y=\"mortality\", hue=\"location\", data=water, fit_reg=False)\n",
    "sns.regplot(x=\"hardness\", y=\"mortality\", data=water, scatter=False, ax=g.axes[0, 0])"
   ]
  },
  {
   "cell_type": "markdown",
   "metadata": {},
   "source": [
    "_The scatterplot shows that as hardness increases mortality decreases, and the histogram for the water hardness shows it has a rather skewed distribution._\n",
    "\n",
    "_We can both calculate the Pearson's correlation coefficient between the two variables and test whether it differs significantly for zero._"
   ]
  },
  {
   "cell_type": "code",
   "execution_count": 78,
   "metadata": {
    "collapsed": false
   },
   "outputs": [
    {
     "data": {
      "text/plain": [
       "array([[ 1.        , -0.65484862],\n",
       "       [-0.65484862,  1.        ]])"
      ]
     },
     "execution_count": 78,
     "metadata": {},
     "output_type": "execute_result"
    }
   ],
   "source": [
    "np.corrcoef(water['mortality'], water['hardness'])"
   ]
  },
  {
   "cell_type": "code",
   "execution_count": 79,
   "metadata": {
    "collapsed": false
   },
   "outputs": [
    {
     "name": "stdout",
     "output_type": "stream",
     "text": [
      "t -0.654848623204 pvalue 1.03313392603e-08\n"
     ]
    }
   ],
   "source": [
    "t, pvalue = stats.pearsonr(water['mortality'], water['hardness'])\n",
    "\n",
    "print(\"t\", t, \"pvalue\", pvalue)"
   ]
  },
  {
   "cell_type": "markdown",
   "metadata": {},
   "source": [
    "_The estimated correlation is_ `-0.6548` _and is highly significant_ (`1.033e-08 < 0.05`)."
   ]
  },
  {
   "cell_type": "markdown",
   "metadata": {},
   "source": [
    "## Piston Ring Failures"
   ]
  },
  {
   "cell_type": "code",
   "execution_count": 80,
   "metadata": {
    "collapsed": false
   },
   "outputs": [
    {
     "data": {
      "text/html": [
       "<div>\n",
       "<table border=\"1\" class=\"dataframe\">\n",
       "  <thead>\n",
       "    <tr style=\"text-align: right;\">\n",
       "      <th></th>\n",
       "      <th>compressor</th>\n",
       "      <th>North</th>\n",
       "      <th>Centre</th>\n",
       "      <th>South</th>\n",
       "    </tr>\n",
       "  </thead>\n",
       "  <tbody>\n",
       "    <tr>\n",
       "      <th>0</th>\n",
       "      <td>C1</td>\n",
       "      <td>17</td>\n",
       "      <td>17</td>\n",
       "      <td>12</td>\n",
       "    </tr>\n",
       "    <tr>\n",
       "      <th>1</th>\n",
       "      <td>C2</td>\n",
       "      <td>11</td>\n",
       "      <td>9</td>\n",
       "      <td>13</td>\n",
       "    </tr>\n",
       "    <tr>\n",
       "      <th>2</th>\n",
       "      <td>C3</td>\n",
       "      <td>11</td>\n",
       "      <td>8</td>\n",
       "      <td>19</td>\n",
       "    </tr>\n",
       "    <tr>\n",
       "      <th>3</th>\n",
       "      <td>C4</td>\n",
       "      <td>14</td>\n",
       "      <td>7</td>\n",
       "      <td>28</td>\n",
       "    </tr>\n",
       "  </tbody>\n",
       "</table>\n",
       "</div>"
      ],
      "text/plain": [
       "  compressor  North  Centre  South\n",
       "0         C1     17      17     12\n",
       "1         C2     11       9     13\n",
       "2         C3     11       8     19\n",
       "3         C4     14       7     28"
      ]
     },
     "execution_count": 80,
     "metadata": {},
     "output_type": "execute_result"
    }
   ],
   "source": [
    "pistonrings = pd.read_csv('pistonrings.csv')\n",
    "pistonrings.rename(index=str, columns={'Unnamed: 0': 'compressor'}, inplace=True)\n",
    "pistonrings.set_index('compressor')\n",
    "pistonrings.head()"
   ]
  },
  {
   "cell_type": "markdown",
   "metadata": {},
   "source": [
    "_The first step in the analysis of_ `pistonrings` _data is to apply the chi-squared test for independence._"
   ]
  },
  {
   "cell_type": "code",
   "execution_count": 81,
   "metadata": {
    "collapsed": false
   },
   "outputs": [
    {
     "name": "stdout",
     "output_type": "stream",
     "text": [
      "chi-squared 11.7222663711 p-value 0.0684593607257 dof 6\n",
      "residuals\n"
     ]
    },
    {
     "data": {
      "text/html": [
       "<div>\n",
       "<table border=\"1\" class=\"dataframe\">\n",
       "  <thead>\n",
       "    <tr style=\"text-align: right;\">\n",
       "      <th></th>\n",
       "      <th>compressor</th>\n",
       "      <th>North</th>\n",
       "      <th>Centre</th>\n",
       "      <th>South</th>\n",
       "    </tr>\n",
       "  </thead>\n",
       "  <tbody>\n",
       "    <tr>\n",
       "      <th>0</th>\n",
       "      <td>C1</td>\n",
       "      <td>0.603615</td>\n",
       "      <td>1.672827</td>\n",
       "      <td>-1.780224</td>\n",
       "    </tr>\n",
       "    <tr>\n",
       "      <th>1</th>\n",
       "      <td>C2</td>\n",
       "      <td>0.142903</td>\n",
       "      <td>0.297520</td>\n",
       "      <td>-0.347120</td>\n",
       "    </tr>\n",
       "    <tr>\n",
       "      <th>2</th>\n",
       "      <td>C3</td>\n",
       "      <td>-0.325143</td>\n",
       "      <td>-0.452262</td>\n",
       "      <td>0.620246</td>\n",
       "    </tr>\n",
       "    <tr>\n",
       "      <th>3</th>\n",
       "      <td>C4</td>\n",
       "      <td>-0.415789</td>\n",
       "      <td>-1.466694</td>\n",
       "      <td>1.463523</td>\n",
       "    </tr>\n",
       "  </tbody>\n",
       "</table>\n",
       "</div>"
      ],
      "text/plain": [
       "  compressor     North    Centre     South\n",
       "0         C1  0.603615  1.672827 -1.780224\n",
       "1         C2  0.142903  0.297520 -0.347120\n",
       "2         C3 -0.325143 -0.452262  0.620246\n",
       "3         C4 -0.415789 -1.466694  1.463523"
      ]
     },
     "execution_count": 81,
     "metadata": {},
     "output_type": "execute_result"
    }
   ],
   "source": [
    "chi2, pvalue, dof, expected = stats.chi2_contingency(pistonrings[['North', 'Centre', 'South']])\n",
    "\n",
    "def chi2_residuals(observed, expected):\n",
    "    return (observed - expected) / np.sqrt(expected)\n",
    "\n",
    "print(\"chi-squared\", chi2, \"p-value\", pvalue, \"dof\", dof)\n",
    "print(\"residuals\")\n",
    "residuals = chi2_residuals(pistonrings[['North', 'Centre', 'South']], expected)\n",
    "pd.concat([pistonrings[['compressor']], residuals], axis=1).head()"
   ]
  },
  {
   "cell_type": "markdown",
   "metadata": {},
   "source": [
    "_The value of chi-squared test statistic is 11.72 with 6 degrees of freedom and an associated p-value of 0.068. The evidence for departure from independence of compressor and leg is not strong, but it may be worthwile taking the analysis a little further by examining the estimated expected values and the differences of these from the corresponding observed value - residuals._"
   ]
  },
  {
   "cell_type": "code",
   "execution_count": 82,
   "metadata": {
    "collapsed": false
   },
   "outputs": [
    {
     "data": {
      "text/plain": [
       "<matplotlib.axes._subplots.AxesSubplot at 0x7fbcb69a79b0>"
      ]
     },
     "execution_count": 82,
     "metadata": {},
     "output_type": "execute_result"
    },
    {
     "data": {
      "image/png": "[encoded data removed]",
      "text/plain": [
       "<matplotlib.figure.Figure at 0x7fbcb6a41cf8>"
      ]
     },
     "metadata": {},
     "output_type": "display_data"
    }
   ],
   "source": [
    "sns.heatmap(pd.concat([pistonrings[['compressor']], residuals], axis=1).set_index('compressor'))"
   ]
  },
  {
   "cell_type": "markdown",
   "metadata": {},
   "source": [
    "_The largest deviations from indepence are for C1 and C4 compressors in the center and south leg._"
   ]
  },
  {
   "cell_type": "code",
   "execution_count": null,
   "metadata": {
    "collapsed": true
   },
   "outputs": [],
   "source": []
  }
 ],
 "metadata": {
  "kernelspec": {
   "display_name": "Python 3",
   "language": "python",
   "name": "python3"
  },
  "language_info": {
   "codemirror_mode": {
    "name": "ipython",
    "version": 3
   },
   "file_extension": ".py",
   "mimetype": "text/x-python",
   "name": "python",
   "nbconvert_exporter": "python",
   "pygments_lexer": "ipython3",
   "version": "3.6.0"
  }
 },
 "nbformat": 4,
 "nbformat_minor": 2
}
