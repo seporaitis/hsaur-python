{
 "cells": [
  {
   "cell_type": "markdown",
   "metadata": {},
   "source": [
    "# Conditional Inference"
   ]
  },
  {
   "cell_type": "code",
   "execution_count": 1,
   "metadata": {
    "collapsed": true
   },
   "outputs": [],
   "source": [
    "%matplotlib inline\n",
    "from __future__ import division\n",
    "\n",
    "import pandas as pd\n",
    "import numpy as np\n",
    "import matplotlib.pyplot as plt\n",
    "import seaborn as sns\n",
    "import statsmodels.api as sm\n",
    "import statsmodels.stats.api as sms\n",
    "import statsmodels.sandbox.stats.runs as sssr\n",
    "import statsmodels.stats.proportion as ssp\n",
    "from scipy import optimize, stats"
   ]
  },
  {
   "cell_type": "code",
   "execution_count": 2,
   "metadata": {
    "collapsed": true
   },
   "outputs": [],
   "source": [
    "sns.set(color_codes=True)"
   ]
  },
  {
   "cell_type": "markdown",
   "metadata": {},
   "source": [
    "## Estimating the Width of the Room Revised\n",
    "\n",
    "_The unconditional analysis of the room width estimated by two groups of students in Chapter 3 led to the conclusion that the estimates in meters are slightly larger than the estimates in feet. Here, we reanalyze these data in a conditional framework._"
   ]
  },
  {
   "cell_type": "code",
   "execution_count": 3,
   "metadata": {
    "collapsed": false
   },
   "outputs": [
    {
     "data": {
      "text/html": [
       "<div>\n",
       "<table border=\"1\" class=\"dataframe\">\n",
       "  <thead>\n",
       "    <tr style=\"text-align: right;\">\n",
       "      <th></th>\n",
       "      <th>unit</th>\n",
       "      <th>width</th>\n",
       "    </tr>\n",
       "  </thead>\n",
       "  <tbody>\n",
       "    <tr>\n",
       "      <th>0</th>\n",
       "      <td>metres</td>\n",
       "      <td>8</td>\n",
       "    </tr>\n",
       "    <tr>\n",
       "      <th>1</th>\n",
       "      <td>metres</td>\n",
       "      <td>9</td>\n",
       "    </tr>\n",
       "    <tr>\n",
       "      <th>2</th>\n",
       "      <td>metres</td>\n",
       "      <td>10</td>\n",
       "    </tr>\n",
       "    <tr>\n",
       "      <th>3</th>\n",
       "      <td>metres</td>\n",
       "      <td>10</td>\n",
       "    </tr>\n",
       "    <tr>\n",
       "      <th>4</th>\n",
       "      <td>metres</td>\n",
       "      <td>10</td>\n",
       "    </tr>\n",
       "  </tbody>\n",
       "</table>\n",
       "</div>"
      ],
      "text/plain": [
       "     unit  width\n",
       "0  metres      8\n",
       "1  metres      9\n",
       "2  metres     10\n",
       "3  metres     10\n",
       "4  metres     10"
      ]
     },
     "execution_count": 3,
     "metadata": {},
     "output_type": "execute_result"
    }
   ],
   "source": [
    "roomwidth = pd.read_csv('roomwidth.csv')\n",
    "del roomwidth['Unnamed: 0']\n",
    "roomwidth.head()"
   ]
  },
  {
   "cell_type": "code",
   "execution_count": 4,
   "metadata": {
    "collapsed": false
   },
   "outputs": [
    {
     "data": {
      "text/html": [
       "<div>\n",
       "<table border=\"1\" class=\"dataframe\">\n",
       "  <thead>\n",
       "    <tr style=\"text-align: right;\">\n",
       "      <th></th>\n",
       "      <th>unit</th>\n",
       "      <th>width</th>\n",
       "    </tr>\n",
       "  </thead>\n",
       "  <tbody>\n",
       "    <tr>\n",
       "      <th>0</th>\n",
       "      <td>metres</td>\n",
       "      <td>26.24</td>\n",
       "    </tr>\n",
       "    <tr>\n",
       "      <th>1</th>\n",
       "      <td>metres</td>\n",
       "      <td>29.52</td>\n",
       "    </tr>\n",
       "    <tr>\n",
       "      <th>2</th>\n",
       "      <td>metres</td>\n",
       "      <td>32.80</td>\n",
       "    </tr>\n",
       "    <tr>\n",
       "      <th>3</th>\n",
       "      <td>metres</td>\n",
       "      <td>32.80</td>\n",
       "    </tr>\n",
       "    <tr>\n",
       "      <th>4</th>\n",
       "      <td>metres</td>\n",
       "      <td>32.80</td>\n",
       "    </tr>\n",
       "  </tbody>\n",
       "</table>\n",
       "</div>"
      ],
      "text/plain": [
       "     unit  width\n",
       "0  metres  26.24\n",
       "1  metres  29.52\n",
       "2  metres  32.80\n",
       "3  metres  32.80\n",
       "4  metres  32.80"
      ]
     },
     "execution_count": 4,
     "metadata": {},
     "output_type": "execute_result"
    }
   ],
   "source": [
    "def convert(row):\n",
    "    if row['unit'] == 'metres':\n",
    "        row['width'] *= 3.28\n",
    "    return row\n",
    "\n",
    "roomwidth = roomwidth.apply(convert, axis=1)\n",
    "roomwidth.head()"
   ]
  },
  {
   "cell_type": "code",
   "execution_count": 5,
   "metadata": {
    "collapsed": false
   },
   "outputs": [
    {
     "data": {
      "text/plain": [
       "-8.858893280632401"
      ]
     },
     "execution_count": 5,
     "metadata": {},
     "output_type": "execute_result"
    }
   ],
   "source": [
    "feet = roomwidth['unit'] == 'feet'\n",
    "metres = roomwidth['unit'] == 'metres'\n",
    "T = roomwidth[feet]['width'].mean() - roomwidth[metres]['width'].mean()\n",
    "T"
   ]
  },
  {
   "cell_type": "markdown",
   "metadata": {},
   "source": [
    "_In order to approximate the conditional distribution of the test statistic T we compute thousands of test statistics for shuffled $roomwidth$ values._"
   ]
  },
  {
   "cell_type": "code",
   "execution_count": 6,
   "metadata": {
    "collapsed": false
   },
   "outputs": [
    {
     "data": {
      "text/plain": [
       "<matplotlib.lines.Line2D at 0x7f2c45a81668>"
      ]
     },
     "execution_count": 6,
     "metadata": {},
     "output_type": "execute_result"
    },
    {
     "data": {
      "image/png": "[encoded data removed]",
      "text/plain": [
       "<matplotlib.figure.Figure at 0x7f2c45aedfd0>"
      ]
     },
     "metadata": {},
     "output_type": "display_data"
    }
   ],
   "source": [
    "meandiffs = []\n",
    "for idx in range(9999):\n",
    "    sy = roomwidth.sample(n=len(roomwidth))\n",
    "    sy = sy.reset_index()\n",
    "    meandiffs.append(sy[feet]['width'].mean() - sy[metres]['width'].mean())\n",
    "    \n",
    "meandiffs = pd.Series(meandiffs)\n",
    "meandiffs.hist()\n",
    "plt.axvline(x=T, color='r', linestyle='dashed')\n",
    "plt.axvline(x=-T, color='r', linestyle='dashed')\n"
   ]
  },
  {
   "cell_type": "code",
   "execution_count": 7,
   "metadata": {
    "collapsed": false
   },
   "outputs": [
    {
     "data": {
      "text/plain": [
       "0.0082008200820082016"
      ]
     },
     "execution_count": 7,
     "metadata": {},
     "output_type": "execute_result"
    }
   ],
   "source": [
    "greater = np.abs(meandiffs) > np.abs(T)\n",
    "greater.mean()"
   ]
  },
  {
   "cell_type": "code",
   "execution_count": 8,
   "metadata": {
    "collapsed": false
   },
   "outputs": [
    {
     "name": "stdout",
     "output_type": "stream",
     "text": [
      "binomial test p-value: 4.94065645841e-324\n"
     ]
    }
   ],
   "source": [
    "pvalue = stats.binom_test(np.sum(greater), len(greater))\n",
    "\n",
    "print(\"binomial test p-value:\", pvalue)"
   ]
  },
  {
   "cell_type": "code",
   "execution_count": 9,
   "metadata": {
    "collapsed": false
   },
   "outputs": [
    {
     "data": {
      "text/plain": [
       "(0.0064331129210007196, 0.0099685272430156836)"
      ]
     },
     "execution_count": 9,
     "metadata": {},
     "output_type": "execute_result"
    }
   ],
   "source": [
    "ssp.proportion_confint(np.sum(greater), len(greater))"
   ]
  },
  {
   "cell_type": "code",
   "execution_count": 10,
   "metadata": {
    "collapsed": false
   },
   "outputs": [
    {
     "name": "stdout",
     "output_type": "stream",
     "text": [
      "p-value: 0.0281547888151\n",
      "confidence interval:  -9.359999999999618 -0.8000000000008245\n"
     ]
    }
   ],
   "source": [
    "def wilcoxon_cint(x, y):\n",
    "    \"\"\"\n",
    "    An attempt to calculate confidence interval of Wilcoxon test, based on it's R implementation:\n",
    "    https://github.com/wch/r-source/blob/trunk/src/library/stats/R/wilcox.test.R\n",
    "    \"\"\"\n",
    "    n = len(x)\n",
    "    mu = 0\n",
    "    conf_level = 0.95\n",
    "    exact = len(x) < 50\n",
    "\n",
    "    r = stats.rankdata((x - mu).append(y))\n",
    "    n_x = len(x)\n",
    "    n_y = len(y)\n",
    "    exact = (n_x < 50) and (n_y < 5)\n",
    "    statistic = np.sum(r[0:n_x]) - n_x * (n_x + 1) / 2\n",
    "    ties = (len(r) != len(np.unique(r)))\n",
    "\n",
    "    # https://github.com/wch/r-source/blob/trunk/src/library/stats/R/wilcox.test.R#L332\n",
    "    nties = pd.Series(r).value_counts()\n",
    "    z = statistic - (n_x * n_y / 2)\n",
    "    sigma = np.sqrt((n_x * n_y / 12) *\n",
    "                    ((n_x + n_y + 1)\n",
    "                   - np.sum(np.power(nties, 3) - nties)\n",
    "                    / ((n_x + n_y) * (n_x + n_y - 1))))\n",
    "    correction = np.sign(z) * 0.5\n",
    "    z = (z - correction) / sigma\n",
    "    pval = 2 * min(stats.norm.cdf(z), stats.norm.cdf((1 - z) / 2))\n",
    "\n",
    "    # conf.int\n",
    "    alpha = 1 - conf_level\n",
    "    mumin = x.min() - y.max()\n",
    "    mumax = x.max() - y.min()\n",
    "\n",
    "    def W(d):\n",
    "        dr = stats.rankdata((x - d).append(y))\n",
    "        nties_ci = pd.Series(r).value_counts()\n",
    "        dz = np.sum(dr[0:n_x]) - n_x * (n_x + 1) / 2 - n_x * n_y / 2\n",
    "        correction_ci = np.sign(dz) * 0.5\n",
    "        sigma_ci = np.sqrt((n_x * n_y / 12) *\n",
    "                               ((n_x + n_y + 1)\n",
    "                             - sum(np.power(nties_ci, 3) - nties_ci)\n",
    "                             / ((n_x + n_y) * (n_x + n_y - 1))))\n",
    "        return (dz - correction_ci) / sigma_ci\n",
    "\n",
    "    def wdiff(d, zq):\n",
    "        val = W(d) - zq\n",
    "        return val\n",
    "    \n",
    "    Wmumin = W(mumin)\n",
    "    Wmumax = W(mumax)\n",
    "\n",
    "    def root(zq):\n",
    "        lower = Wmumin - zq\n",
    "        if lower <= 0:\n",
    "            return mumin\n",
    "        upper = Wmumax - zq\n",
    "        if upper >= 0:\n",
    "            return mumax\n",
    "        return optimize.brentq(wdiff, a=mumin, b=mumax, args=(zq,))\n",
    "\n",
    "    l = root(zq=stats.norm.ppf(1 - alpha / 2))\n",
    "    u = root(zq=stats.norm.ppf(alpha / 2))\n",
    "    \n",
    "    return pval, (l, u)\n",
    "\n",
    "pvalue, (cl, cu) = wilcoxon_cint(roomwidth[feet]['width'], roomwidth[metres]['width'])\n",
    "\n",
    "print(\"p-value:\", pvalue)\n",
    "print(\"confidence interval: \", cl, cu)"
   ]
  },
  {
   "cell_type": "markdown",
   "metadata": {
    "collapsed": true
   },
   "source": [
    "_Based on the results of the permutation test applied to the $roomwidth$ data we can conclude that the estimates in meters are, on average, larger than the estimates in feet._"
   ]
  },
  {
   "cell_type": "markdown",
   "metadata": {},
   "source": [
    "## Crowds and Threatened Suicide\n",
    "\n",
    "\n",
    "_The data in this case are in the form of 2x2 contingency table and it might be thought that the chi-squared test could again be applied to test for the independence of crowd behavior and time of year. However, the chi-squared distribution as an approximation to the independence test statistic is bad when the expected frequencies are rather small. One solution is to use a conditional test procedure such as Fisher's exact test._"
   ]
  },
  {
   "cell_type": "code",
   "execution_count": 11,
   "metadata": {
    "collapsed": false
   },
   "outputs": [
    {
     "data": {
      "text/html": [
       "<div>\n",
       "<table border=\"1\" class=\"dataframe\">\n",
       "  <thead>\n",
       "    <tr style=\"text-align: right;\">\n",
       "      <th></th>\n",
       "      <th>Baiting</th>\n",
       "      <th>Nonbaiting</th>\n",
       "    </tr>\n",
       "    <tr>\n",
       "      <th>season</th>\n",
       "      <th></th>\n",
       "      <th></th>\n",
       "    </tr>\n",
       "  </thead>\n",
       "  <tbody>\n",
       "    <tr>\n",
       "      <th>June--September</th>\n",
       "      <td>8</td>\n",
       "      <td>4</td>\n",
       "    </tr>\n",
       "    <tr>\n",
       "      <th>October--May</th>\n",
       "      <td>2</td>\n",
       "      <td>7</td>\n",
       "    </tr>\n",
       "  </tbody>\n",
       "</table>\n",
       "</div>"
      ],
      "text/plain": [
       "                 Baiting  Nonbaiting\n",
       "season                              \n",
       "June--September        8           4\n",
       "October--May           2           7"
      ]
     },
     "execution_count": 11,
     "metadata": {},
     "output_type": "execute_result"
    }
   ],
   "source": [
    "suicides = pd.read_csv('suicides.csv')\n",
    "suicides.rename(index=str, columns={'Unnamed: 0': 'season'}, inplace=True)\n",
    "suicides = suicides.set_index('season')\n",
    "suicides.head()"
   ]
  },
  {
   "cell_type": "code",
   "execution_count": 13,
   "metadata": {
    "collapsed": false
   },
   "outputs": [
    {
     "name": "stdout",
     "output_type": "stream",
     "text": [
      "statistic 7.0 p-value 0.0804953560372\n"
     ]
    }
   ],
   "source": [
    "statistic, pvalue = stats.fisher_exact(suicides)\n",
    "\n",
    "print(\"statistic\", statistic, \"p-value\", pvalue)"
   ]
  },
  {
   "cell_type": "markdown",
   "metadata": {},
   "source": [
    "_There is no strong evidence of crowd behavior being associated with time of year of threatened suicide, but the sample size is low and the test lacks power._"
   ]
  },
  {
   "cell_type": "markdown",
   "metadata": {},
   "source": [
    "## Gastrointestinal Damage\n",
    "\n",
    "_Here we are interested in the comparison of two groups of patients, where one group received a placebo and the other one Misoprostol. In the trials shown here, the response variable is measured on an ordered scale. Data from four clinical studies are available and thus the observation are naturally grouped together._"
   ]
  },
  {
   "cell_type": "code",
   "execution_count": 16,
   "metadata": {
    "collapsed": false
   },
   "outputs": [
    {
     "data": {
      "text/html": [
       "<div>\n",
       "<table border=\"1\" class=\"dataframe\">\n",
       "  <thead>\n",
       "    <tr style=\"text-align: right;\">\n",
       "      <th></th>\n",
       "      <th>study</th>\n",
       "      <th>treatment</th>\n",
       "      <th>classification</th>\n",
       "    </tr>\n",
       "  </thead>\n",
       "  <tbody>\n",
       "    <tr>\n",
       "      <th>0</th>\n",
       "      <td>I</td>\n",
       "      <td>Misoprostol</td>\n",
       "      <td>1</td>\n",
       "    </tr>\n",
       "    <tr>\n",
       "      <th>1</th>\n",
       "      <td>I</td>\n",
       "      <td>Misoprostol</td>\n",
       "      <td>1</td>\n",
       "    </tr>\n",
       "    <tr>\n",
       "      <th>2</th>\n",
       "      <td>I</td>\n",
       "      <td>Misoprostol</td>\n",
       "      <td>1</td>\n",
       "    </tr>\n",
       "    <tr>\n",
       "      <th>3</th>\n",
       "      <td>I</td>\n",
       "      <td>Misoprostol</td>\n",
       "      <td>1</td>\n",
       "    </tr>\n",
       "    <tr>\n",
       "      <th>4</th>\n",
       "      <td>I</td>\n",
       "      <td>Misoprostol</td>\n",
       "      <td>1</td>\n",
       "    </tr>\n",
       "  </tbody>\n",
       "</table>\n",
       "</div>"
      ],
      "text/plain": [
       "  study    treatment  classification\n",
       "0     I  Misoprostol               1\n",
       "1     I  Misoprostol               1\n",
       "2     I  Misoprostol               1\n",
       "3     I  Misoprostol               1\n",
       "4     I  Misoprostol               1"
      ]
     },
     "execution_count": 16,
     "metadata": {},
     "output_type": "execute_result"
    }
   ],
   "source": [
    "lanza = pd.read_csv('Lanza.csv')\n",
    "del lanza['Unnamed: 0']\n",
    "lanza.head()"
   ]
  },
  {
   "cell_type": "code",
   "execution_count": 28,
   "metadata": {
    "collapsed": false
   },
   "outputs": [
    {
     "data": {
      "text/html": [
       "<div>\n",
       "<table border=\"1\" class=\"dataframe\">\n",
       "  <thead>\n",
       "    <tr>\n",
       "      <th>study</th>\n",
       "      <th>treatment</th>\n",
       "    </tr>\n",
       "  </thead>\n",
       "  <tbody>\n",
       "  </tbody>\n",
       "</table>\n",
       "</div>"
      ],
      "text/plain": [
       "Empty DataFrame\n",
       "Columns: []\n",
       "Index: []"
      ]
     },
     "execution_count": 28,
     "metadata": {},
     "output_type": "execute_result"
    }
   ],
   "source": [
    "lanza.pivot_table(\n",
    "    values=['treatment', 'classification'], \n",
    "    index=['study', 'treatment'], \n",
    "    columns=['classification'], \n",
    "    aggfunc=np.sum\n",
    ")"
   ]
  },
  {
   "cell_type": "code",
   "execution_count": null,
   "metadata": {
    "collapsed": true
   },
   "outputs": [],
   "source": []
  }
 ],
 "metadata": {
  "kernelspec": {
   "display_name": "Python 3",
   "language": "python",
   "name": "python3"
  },
  "language_info": {
   "codemirror_mode": {
    "name": "ipython",
    "version": 3
   },
   "file_extension": ".py",
   "mimetype": "text/x-python",
   "name": "python",
   "nbconvert_exporter": "python",
   "pygments_lexer": "ipython3",
   "version": "3.6.0"
  }
 },
 "nbformat": 4,
 "nbformat_minor": 2
}
